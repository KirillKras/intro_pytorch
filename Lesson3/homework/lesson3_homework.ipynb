{
 "cells": [
  {
   "cell_type": "code",
   "execution_count": 1,
   "metadata": {
    "collapsed": true
   },
   "outputs": [],
   "source": [
    "import os\n",
    "import numpy as np\n",
    "import math\n",
    "\n",
    "from torch.utils.data import DataLoader, Dataset\n",
    "import torchvision.transforms as transforms\n",
    "from torchvision import datasets\n",
    "from torch.autograd import Variable\n",
    "\n",
    "import torch.nn as nn\n",
    "import torch\n",
    "\n",
    "########### Вывод изображений и сохранение ################################\n",
    "import matplotlib.pyplot as plt\n",
    "from IPython import display\n",
    "from torchvision.utils import save_image, make_grid"
   ]
  },
  {
   "cell_type": "code",
   "execution_count": 2,
   "outputs": [
    {
     "name": "stdout",
     "output_type": "stream",
     "text": [
      "cpu\n"
     ]
    }
   ],
   "source": [
    "use_cuda = torch.cuda.is_available()\n",
    "# device = torch.device(\"cpu\")\n",
    "device = torch.device('cuda') if torch.cuda.is_available() else torch.device('cpu')\n",
    "print(device)"
   ],
   "metadata": {
    "collapsed": false,
    "pycharm": {
     "name": "#%%\n"
    }
   }
  },
  {
   "cell_type": "code",
   "execution_count": 20,
   "outputs": [],
   "source": [
    "n_epochs = 200\n",
    "batch_size = 64\n",
    "lr = 0.0002\n",
    "#\n",
    "b1 = 0.5\n",
    "b2 = 0.999\n",
    "#\n",
    "latent_dim = 30\n",
    "#\n",
    "# n_classes = 10\n",
    "# img_size = 28\n",
    "# channels = 1\n",
    "#\n",
    "sample_interval = 25\n",
    "#\n",
    "# img_shape = (channels, img_size, img_size)\n"
   ],
   "metadata": {
    "collapsed": false,
    "pycharm": {
     "name": "#%%\n"
    }
   }
  },
  {
   "cell_type": "code",
   "execution_count": 4,
   "outputs": [],
   "source": [
    "class Generator(nn.Module):\n",
    "    def __init__(self, latent_dim):\n",
    "        super().__init__()\n",
    "\n",
    "        def block(in_feat, out_feat, normalize=True): #activation='relu\n",
    "            layers = [nn.Linear(in_feat, out_feat)]\n",
    "            if normalize:\n",
    "                layers.append(nn.BatchNorm1d(out_feat, 0.8))\n",
    "            layers.append(nn.LeakyReLU(0.2, inplace=True))\n",
    "            return layers\n",
    "\n",
    "        self.model = nn.Sequential(\n",
    "            *block(latent_dim, 128, normalize=False),\n",
    "            *block(128, 256),\n",
    "            *block(256, 512),\n",
    "            nn.Linear(512, 2),\n",
    "            nn.Tanh()\n",
    "        )\n",
    "#         self.activations = nn.ModuleDict([\n",
    "#                 ['lrelu', nn.LeakyReLU()],\n",
    "#                 ['relu', nn.ReLU()]])\n",
    "\n",
    "    def forward(self, z):\n",
    "        point = self.model(z)\n",
    "        point = point.view(point.size(0), 2)\n",
    "        return point"
   ],
   "metadata": {
    "collapsed": false,
    "pycharm": {
     "name": "#%%\n"
    }
   }
  },
  {
   "cell_type": "code",
   "execution_count": 5,
   "outputs": [],
   "source": [
    "class CustomLinearLayer(nn.Module):\n",
    "    def __init__(self, size_in, size_out):\n",
    "        super().__init__()\n",
    "        self.size_in, self.size_out = size_in, size_out\n",
    "\n",
    "        weights = torch.Tensor(size_out, size_in)\n",
    "        self.weights = nn.Parameter(weights)\n",
    "\n",
    "        bias = torch.Tensor(size_out)\n",
    "        self.bias = nn.Parameter(bias)\n",
    "\n",
    "        nn.init.uniform_(self.weights, -0.005, 0.005)\n",
    "        nn.init.uniform_(self.bias, -0.005, 0.005)\n",
    "\n",
    "    def forward(self, x):\n",
    "        w_times_x = torch.mm(x, self.weights.t())\n",
    "        return torch.add(w_times_x, self.bias)"
   ],
   "metadata": {
    "collapsed": false,
    "pycharm": {
     "name": "#%%\n"
    }
   }
  },
  {
   "cell_type": "code",
   "execution_count": 6,
   "outputs": [],
   "source": [
    "class Discriminator(nn.Module):\n",
    "    def __init__(self):\n",
    "        super().__init__()\n",
    "\n",
    "        self.model = nn.Sequential(\n",
    "            CustomLinearLayer(2, 512),\n",
    "            nn.LeakyReLU(0.2, inplace=True),\n",
    "            CustomLinearLayer(512, 256),\n",
    "            nn.LeakyReLU(0.2, inplace=True),\n",
    "            CustomLinearLayer(256, 1),\n",
    "            nn.Sigmoid(),\n",
    "        )\n",
    "\n",
    "\n",
    "    def forward(self, point):\n",
    "        point_flat = point.view(point.size(0), -1)\n",
    "        validity = self.model(point_flat)\n",
    "\n",
    "        return validity"
   ],
   "metadata": {
    "collapsed": false,
    "pycharm": {
     "name": "#%%\n"
    }
   }
  },
  {
   "cell_type": "code",
   "execution_count": 13,
   "outputs": [],
   "source": [
    "class Function_Dataset(Dataset):\n",
    "    def __init__(self):\n",
    "        x = torch.linspace(-100, 100, 1000)\n",
    "        y = (torch.sin(x) / x) - (x / 10)\n",
    "        self.data = torch.stack((x, y), -1)\n",
    "\n",
    "    def __len__(self):\n",
    "        return len(self.data)\n",
    "\n",
    "    def __getitem__(self, item):\n",
    "        return self.data[item]"
   ],
   "metadata": {
    "collapsed": false,
    "pycharm": {
     "name": "#%%\n"
    }
   }
  },
  {
   "cell_type": "code",
   "execution_count": 14,
   "outputs": [],
   "source": [
    "real_data = torch.utils.data.DataLoader(\n",
    "    Function_Dataset(),\n",
    "    batch_size=batch_size,\n",
    "    shuffle=True,\n",
    ")"
   ],
   "metadata": {
    "collapsed": false,
    "pycharm": {
     "name": "#%%\n"
    }
   }
  },
  {
   "cell_type": "code",
   "execution_count": 32,
   "outputs": [],
   "source": [
    "dataiter = iter(real_data)\n",
    "points = dataiter.next()"
   ],
   "metadata": {
    "collapsed": false,
    "pycharm": {
     "name": "#%%\n"
    }
   }
  },
  {
   "cell_type": "code",
   "execution_count": 33,
   "outputs": [],
   "source": [
    "generator = Generator(latent_dim=latent_dim).to(device)\n",
    "discriminator = Discriminator().to(device)\n",
    "\n",
    "optimizer_G = torch.optim.Adam(generator.parameters(), lr=lr, betas=(b1, b2))\n",
    "optimizer_D = torch.optim.Adam(discriminator.parameters(), lr=lr, betas=(b1, b2))\n",
    "\n",
    "adversarial_loss = torch.nn.BCELoss()"
   ],
   "metadata": {
    "collapsed": false,
    "pycharm": {
     "name": "#%%\n"
    }
   }
  },
  {
   "cell_type": "code",
   "execution_count": 34,
   "outputs": [],
   "source": [
    "d_loss_history = []\n",
    "g_loss_history = []"
   ],
   "metadata": {
    "collapsed": false,
    "pycharm": {
     "name": "#%%\n"
    }
   }
  },
  {
   "cell_type": "code",
   "execution_count": 35,
   "outputs": [
    {
     "data": {
      "text/plain": "<Figure size 432x288 with 0 Axes>"
     },
     "metadata": {},
     "output_type": "display_data"
    }
   ],
   "source": [
    "for epoch in range(n_epochs):\n",
    "    for i, points in enumerate(real_data):\n",
    "\n",
    "        batch_size = points.shape[0]\n",
    "##################### Лейблы для данных: 1 - настоящие, 0 - сгенерированные ########\n",
    "        valid = Variable(torch.FloatTensor(batch_size, 1).fill_(1.0), requires_grad=False).to(device)\n",
    "        fake = Variable(torch.FloatTensor(batch_size, 1).fill_(0.0), requires_grad=False).to(device)\n",
    "\n",
    "        real_points = Variable(points.type(torch.FloatTensor)).to(device)\n",
    "\n",
    "\n",
    "######################  Тренировка генератора    ##########################\n",
    "\n",
    "        optimizer_G.zero_grad()\n",
    "\n",
    "        #генерация шума\n",
    "        z = Variable(torch.FloatTensor(np.random.normal(0, 1, (batch_size, latent_dim)))).to(device)\n",
    "\n",
    "        gen_points = generator(z)\n",
    "\n",
    "        validity = discriminator(gen_points)\n",
    "        g_loss = adversarial_loss(validity, valid)\n",
    "\n",
    "        g_loss.backward()\n",
    "        optimizer_G.step()\n",
    "\n",
    "######################  Тренировка дискриминатора    ##########################\n",
    "\n",
    "        optimizer_D.zero_grad()\n",
    "\n",
    "        real_pred = discriminator(real_points)\n",
    "        d_real_loss = adversarial_loss(real_pred, valid)\n",
    "\n",
    "        fake_pred = discriminator(gen_points.detach())\n",
    "        d_fake_loss = adversarial_loss(fake_pred, fake)\n",
    "\n",
    "        d_loss = (d_real_loss + d_fake_loss) / 2\n",
    "\n",
    "        d_loss.backward()\n",
    "        optimizer_D.step()\n",
    "\n",
    "######## Отображение процесса обучения и вывод функций потерь ############\n",
    "        batches_done = epoch * len(real_data) + i\n",
    "\n",
    "        if batches_done % sample_interval == 0:\n",
    "            plt.clf()\n",
    "\n",
    "            display.clear_output(wait=False)\n",
    "           #print(gen_points)\n",
    "            #print(\"[Epoch %d/%d] [Batch %d/%d] [D loss: %f] [G loss: %f]\"% (epoch, n_epochs, i, len(real_data), d_loss.item(), g_loss.item()) )\n",
    "\n",
    "\n",
    "            #display.display(plt.gcf())\n",
    "\n",
    "            d_loss_history.append(d_loss.detach())\n",
    "            g_loss_history.append(g_loss.detach())"
   ],
   "metadata": {
    "collapsed": false,
    "pycharm": {
     "name": "#%%\n"
    }
   }
  },
  {
   "cell_type": "code",
   "execution_count": 36,
   "outputs": [
    {
     "data": {
      "text/plain": "<Figure size 432x288 with 1 Axes>",
      "image/png": "[encoded data removed]"
     },
     "metadata": {
      "needs_background": "light"
     },
     "output_type": "display_data"
    }
   ],
   "source": [
    "import matplotlib.patches as mpatches\n",
    "\n",
    "red_patch = mpatches.Patch(color='red', label='D loss')\n",
    "green_patch = mpatches.Patch(color='green', label='G loss')\n",
    "\n",
    "\n",
    "plt.plot(np.log(np.array(d_loss_history)), label='D loss', color = 'red')\n",
    "plt.plot(np.log(np.array(g_loss_history)), label='G loss', color = 'green')\n",
    "plt.legend(handles=[red_patch, green_patch])\n",
    "plt.show()"
   ],
   "metadata": {
    "collapsed": false,
    "pycharm": {
     "name": "#%%\n"
    }
   }
  },
  {
   "cell_type": "code",
   "execution_count": 38,
   "outputs": [],
   "source": [
    "batch_size = 64\n",
    "z = Variable(torch.FloatTensor(np.random.normal(0, 1, (batch_size, latent_dim)))).to(device)\n",
    "\n",
    "gen_points_ = generator(z)"
   ],
   "metadata": {
    "collapsed": false,
    "pycharm": {
     "name": "#%%\n"
    }
   }
  },
  {
   "cell_type": "code",
   "execution_count": null,
   "outputs": [],
   "source": [],
   "metadata": {
    "collapsed": false,
    "pycharm": {
     "name": "#%%\n"
    }
   }
  }
 ],
 "metadata": {
  "kernelspec": {
   "display_name": "Python 3",
   "language": "python",
   "name": "python3"
  },
  "language_info": {
   "codemirror_mode": {
    "name": "ipython",
    "version": 2
   },
   "file_extension": ".py",
   "mimetype": "text/x-python",
   "name": "python",
   "nbconvert_exporter": "python",
   "pygments_lexer": "ipython2",
   "version": "2.7.6"
  }
 },
 "nbformat": 4,
 "nbformat_minor": 0
}